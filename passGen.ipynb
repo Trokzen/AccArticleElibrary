{
 "cells": [
  {
   "cell_type": "code",
   "execution_count": null,
   "metadata": {},
   "outputs": [],
   "source": [
    "from werkzeug.security import generate_password_hash"
   ]
  },
  {
   "cell_type": "code",
   "execution_count": 1,
   "metadata": {},
   "outputs": [
    {
     "name": "stdout",
     "output_type": "stream",
     "text": [
      "scrypt:32768:8:1$Y9mbCQMB7qU9ikFX$631f799fac10c916363aa9ac31c024da2ae98c1738591cd9f34a68f6e861d1322f4e9a50342b8e4cdcfa4b66056969aff92411afc452a1fa5d2e7b268ae185c4\n"
     ]
    }
   ],
   "source": [
    "print(generate_password_hash('12345678'))"
   ]
  }
 ],
 "metadata": {
  "kernelspec": {
   "display_name": "Python 3",
   "language": "python",
   "name": "python3"
  },
  "language_info": {
   "codemirror_mode": {
    "name": "ipython",
    "version": 3
   },
   "file_extension": ".py",
   "mimetype": "text/x-python",
   "name": "python",
   "nbconvert_exporter": "python",
   "pygments_lexer": "ipython3",
   "version": "3.12.6"
  }
 },
 "nbformat": 4,
 "nbformat_minor": 2
}
