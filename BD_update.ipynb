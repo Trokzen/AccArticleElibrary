{
 "cells": [
  {
   "cell_type": "markdown",
   "metadata": {},
   "source": [
    "# Библиотеки"
   ]
  },
  {
   "cell_type": "code",
   "execution_count": 2,
   "metadata": {},
   "outputs": [],
   "source": [
    "import pandas as pd\n",
    "import psycopg2"
   ]
  },
  {
   "cell_type": "markdown",
   "metadata": {},
   "source": [
    "# Актуализация БД"
   ]
  },
  {
   "cell_type": "code",
   "execution_count": 8,
   "metadata": {},
   "outputs": [
    {
     "name": "stdout",
     "output_type": "stream",
     "text": [
      "Данные успешно добавлены в базу данных!\n"
     ]
    }
   ],
   "source": [
    "# Функция подключения к базе данных\n",
    "def connect_to_db():\n",
    "    try:\n",
    "        conn = psycopg2.connect(\n",
    "            dbname=\"postgres\",\n",
    "            user=\"postgres\",\n",
    "            password=\"1234\",\n",
    "            host=\"localhost\",\n",
    "            port=\"5432\"\n",
    "        )\n",
    "        return conn\n",
    "    except Exception as e:\n",
    "        print(f\"Ошибка подключения к базе данных: {e}\")\n",
    "        return None\n",
    "\n",
    "# Чтение CSV-файла\n",
    "def read_csv(file_path):\n",
    "    return pd.read_csv(file_path)\n",
    "\n",
    "# Обновление или добавление статьи\n",
    "def upsert_article(conn, article_id, title, in_rinc):\n",
    "    cursor = conn.cursor()\n",
    "    try:\n",
    "        # Проверка наличия статьи\n",
    "        cursor.execute(\"SELECT id FROM elibrary.Articles WHERE id = %s\", (article_id,))\n",
    "        existing_article = cursor.fetchone()\n",
    "\n",
    "        if existing_article:\n",
    "            # Обновить поле in_rinc, если оно изменилось\n",
    "            cursor.execute(\"\"\"\n",
    "                UPDATE elibrary.Articles\n",
    "                SET in_rinc = %s\n",
    "                WHERE id = %s\n",
    "            \"\"\", (in_rinc, article_id))\n",
    "        else:\n",
    "            # Добавить новую статью\n",
    "            cursor.execute(\"\"\"\n",
    "                INSERT INTO elibrary.Articles (id, title, in_rinc)\n",
    "                VALUES (%s, %s, %s)\n",
    "            \"\"\", (article_id, title, in_rinc))\n",
    "        conn.commit()\n",
    "    except Exception as e:\n",
    "        print(f\"Ошибка при обновлении/добавлении статьи: {e}\")\n",
    "        conn.rollback()\n",
    "\n",
    "# Добавление авторов\n",
    "def add_authors(conn, article_id, authors_str):\n",
    "    cursor = conn.cursor()\n",
    "    try:\n",
    "        if authors_str.strip().lower() == \"нет авторов\":\n",
    "            return  # Пропускаем, если нет авторов\n",
    "\n",
    "        authors = [author.strip() for author in authors_str.split(\",\")]\n",
    "\n",
    "        for author in authors:\n",
    "            # Проверяем, есть ли уже такой автор для этой статьи\n",
    "            cursor.execute(\"\"\"\n",
    "                SELECT id FROM elibrary.authors\n",
    "                WHERE article_id = %s AND author_name = %s\n",
    "            \"\"\", (article_id, author))\n",
    "            if cursor.fetchone():\n",
    "                continue  # Автор уже есть, пропускаем\n",
    "\n",
    "            cursor.execute(\"\"\"\n",
    "                INSERT INTO elibrary.authors (article_id, author_name, contribution, applied_for_award)\n",
    "                VALUES (%s, %s, %s, %s)\n",
    "            \"\"\", (article_id, author, 0, False))\n",
    "        conn.commit()\n",
    "    except Exception as e:\n",
    "        print(f\"Ошибка при добавлении авторов: {e}\")\n",
    "        conn.rollback()\n",
    "\n",
    "# Основная функция\n",
    "def main(csv_file_path):\n",
    "    conn = connect_to_db()\n",
    "    if not conn:\n",
    "        return\n",
    "\n",
    "    try:\n",
    "        df = read_csv(csv_file_path)\n",
    "\n",
    "        for _, row in df.iterrows():\n",
    "            article_id = int(row[\"ID\"])\n",
    "            title = row[\"Название\"]\n",
    "            in_rinc = row[\"В_РИНЦ\"].strip().lower() == \"да\"\n",
    "            authors_str = row[\"Авторы\"]\n",
    "\n",
    "            # Обновление или добавление статьи\n",
    "            upsert_article(conn, article_id, title, in_rinc)\n",
    "\n",
    "            # Добавление авторов\n",
    "            add_authors(conn, article_id, authors_str)\n",
    "\n",
    "        print(\"Данные успешно добавлены в базу данных!\")\n",
    "\n",
    "    except Exception as e:\n",
    "        print(f\"Ошибка: {e}\")\n",
    "    finally:\n",
    "        conn.close() \n",
    "\n",
    "# Запуск программы\n",
    "if __name__ == \"__main__\":\n",
    "    csv_file_path = \"final_result.csv\"  # Укажите путь к вашему CSV-файлу\n",
    "    main(csv_file_path)"
   ]
  }
 ],
 "metadata": {
  "kernelspec": {
   "display_name": "Python 3",
   "language": "python",
   "name": "python3"
  },
  "language_info": {
   "codemirror_mode": {
    "name": "ipython",
    "version": 3
   },
   "file_extension": ".py",
   "mimetype": "text/x-python",
   "name": "python",
   "nbconvert_exporter": "python",
   "pygments_lexer": "ipython3",
   "version": "3.12.6"
  }
 },
 "nbformat": 4,
 "nbformat_minor": 2
}
