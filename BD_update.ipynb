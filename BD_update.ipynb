{
 "cells": [
  {
   "cell_type": "markdown",
   "metadata": {},
   "source": [
    "# Библиотеки"
   ]
  },
  {
   "cell_type": "code",
   "execution_count": 6,
   "metadata": {},
   "outputs": [],
   "source": [
    "import pandas as pd\n",
    "import psycopg2"
   ]
  },
  {
   "cell_type": "markdown",
   "metadata": {},
   "source": [
    "# Актуализация БД"
   ]
  },
  {
   "cell_type": "markdown",
   "metadata": {},
   "source": [
    "## Подключение к БД"
   ]
  },
  {
   "cell_type": "code",
   "execution_count": 7,
   "metadata": {},
   "outputs": [],
   "source": [
    "# Функция подключения к базе данных\n",
    "def connect_to_db():\n",
    "    try:\n",
    "        conn = psycopg2.connect(\n",
    "            dbname=\"postgres\",\n",
    "            user=\"postgres\",\n",
    "            password=\"1234\",\n",
    "            host=\"localhost\",\n",
    "            port=\"5432\"\n",
    "        )\n",
    "        return conn\n",
    "    except Exception as e:\n",
    "        print(f\"Ошибка подключения к базе данных: {e}\")\n",
    "        return None"
   ]
  },
  {
   "cell_type": "markdown",
   "metadata": {},
   "source": [
    "## Функция чтения CSV"
   ]
  },
  {
   "cell_type": "code",
   "execution_count": 8,
   "metadata": {},
   "outputs": [],
   "source": [
    "def read_csv(file_path):\n",
    "    return pd.read_csv(file_path)"
   ]
  },
  {
   "cell_type": "markdown",
   "metadata": {},
   "source": [
    "## Функция добавления/обновления статьи"
   ]
  },
  {
   "cell_type": "code",
   "execution_count": 9,
   "metadata": {},
   "outputs": [],
   "source": [
    "def upsert_article(conn, article_id, title, in_rinc):\n",
    "    cursor = conn.cursor()\n",
    "    try:\n",
    "        cursor.execute(\"SELECT id FROM elibrary.articles WHERE id = %s\", (article_id,))\n",
    "        existing_article = cursor.fetchone()\n",
    "        if existing_article:\n",
    "            cursor.execute(\"\"\"\n",
    "                UPDATE elibrary.articles\n",
    "                SET in_rinc = %s\n",
    "                WHERE id = %s\n",
    "            \"\"\", (in_rinc, article_id))\n",
    "        else:\n",
    "            cursor.execute(\"\"\"\n",
    "                INSERT INTO elibrary.articles (id, title, in_rinc)\n",
    "                VALUES (%s, %s, %s)\n",
    "            \"\"\", (article_id, title, in_rinc))\n",
    "        conn.commit()\n",
    "    except Exception as e:\n",
    "        print(f\"Ошибка при обновлении/добавлении статьи: {e}\")\n",
    "        conn.rollback()\n",
    "    finally:\n",
    "        cursor.close()"
   ]
  },
  {
   "cell_type": "markdown",
   "metadata": {},
   "source": [
    "## Функция добавления авторов"
   ]
  },
  {
   "cell_type": "code",
   "execution_count": 10,
   "metadata": {},
   "outputs": [],
   "source": [
    "def add_authors(conn, article_id, authors_str):\n",
    "    cursor = conn.cursor()\n",
    "    try:\n",
    "        if authors_str.strip().lower() == \"нет авторов\":\n",
    "            return\n",
    "        authors = [author.strip() for author in authors_str.split(\",\")]\n",
    "        for author in authors:\n",
    "            cursor.execute(\"\"\"\n",
    "                INSERT INTO elibrary.authors (article_id, author_name, contribution, applied_for_award)\n",
    "                VALUES (%s, %s, %s, %s)\n",
    "                ON CONFLICT DO NOTHING\n",
    "            \"\"\", (article_id, author, 0, False))\n",
    "        conn.commit()\n",
    "    except Exception as e:\n",
    "        print(f\"Ошибка при добавлении авторов: {e}\")\n",
    "        conn.rollback()\n",
    "    finally:\n",
    "        cursor.close()"
   ]
  },
  {
   "cell_type": "markdown",
   "metadata": {},
   "source": [
    "## Main"
   ]
  },
  {
   "cell_type": "code",
   "execution_count": 11,
   "metadata": {},
   "outputs": [
    {
     "name": "stdout",
     "output_type": "stream",
     "text": [
      "Данные успешно добавлены в базу данных!\n"
     ]
    }
   ],
   "source": [
    "if __name__ == \"__main__\":\n",
    "    csv_file_path = \"final_result.csv\"\n",
    "    main(csv_file_path)"
   ]
  }
 ],
 "metadata": {
  "kernelspec": {
   "display_name": "Python 3",
   "language": "python",
   "name": "python3"
  },
  "language_info": {
   "codemirror_mode": {
    "name": "ipython",
    "version": 3
   },
   "file_extension": ".py",
   "mimetype": "text/x-python",
   "name": "python",
   "nbconvert_exporter": "python",
   "pygments_lexer": "ipython3",
   "version": "3.12.6"
  }
 },
 "nbformat": 4,
 "nbformat_minor": 2
}
